{
 "cells": [
  {
   "cell_type": "markdown",
   "id": "0ab6acd3",
   "metadata": {},
   "source": [
    "### Essentials"
   ]
  },
  {
   "cell_type": "code",
   "execution_count": 11,
   "id": "69cad242",
   "metadata": {},
   "outputs": [],
   "source": [
    "import pandas as pd\n",
    "from sklearn.preprocessing import OneHotEncoder\n",
    "from sklearn.linear_model import LinearRegression"
   ]
  },
  {
   "cell_type": "markdown",
   "id": "29e05fe1",
   "metadata": {},
   "source": [
    "### Data"
   ]
  },
  {
   "cell_type": "code",
   "execution_count": 12,
   "id": "60e2dd07",
   "metadata": {},
   "outputs": [
    {
     "name": "stdout",
     "output_type": "stream",
     "text": [
      "   item_name  quantity  days_last\n",
      "0       Milk      1000          7\n",
      "1      Bread       500          3\n",
      "2     Apples        12          5\n",
      "3     Yogurt       250         10\n",
      "4       Eggs        12         14\n",
      "5       Milk       500          3\n",
      "6      Bread       100          1\n",
      "7     Apples         6          3\n",
      "8     Yogurt       100          3\n",
      "9       Eggs        20         20\n",
      "10      Milk       600          5\n",
      "11     Bread      1000          6\n",
      "12    Apples        10          4\n",
      "13    Yogurt       100          4\n",
      "14      Eggs         7         10\n",
      "15      Milk       100          1\n",
      "16     Bread       300          2\n",
      "17    Apples         4          2\n",
      "18    Yogurt       500         17\n",
      "19      Eggs         5          3\n"
     ]
    }
   ],
   "source": [
    "data = [\n",
    "    [\"Milk\", 1000, 7],\n",
    "    [\"Bread\", 500, 3],\n",
    "    [\"Apples\", 12, 5],\n",
    "    [\"Yogurt\", 250, 10],\n",
    "    [\"Eggs\", 12, 14],\n",
    "    \n",
    "    [\"Milk\", 500, 3],\n",
    "    [\"Bread\", 100, 1],\n",
    "    [\"Apples\", 6, 3],\n",
    "    [\"Yogurt\", 100, 3],\n",
    "    [\"Eggs\", 20, 20],\n",
    "\n",
    "    [\"Milk\", 600, 5],\n",
    "    [\"Bread\", 1000, 6],\n",
    "    [\"Apples\", 10, 4],\n",
    "    [\"Yogurt\", 100, 4],\n",
    "    [\"Eggs\", 7, 10],\n",
    "\n",
    "    [\"Milk\", 100, 1],\n",
    "    [\"Bread\", 300, 2],\n",
    "    [\"Apples\", 4, 2],\n",
    "    [\"Yogurt\", 500, 17],\n",
    "    [\"Eggs\", 5, 3],\n",
    "]\n",
    "\n",
    "\n",
    "df = pd.DataFrame(data, columns=[\"item_name\", \"quantity\", \"days_last\"])\n",
    "print(df)"
   ]
  },
  {
   "cell_type": "markdown",
   "id": "ddbf3b7a",
   "metadata": {},
   "source": [
    "### Preparing the Data"
   ]
  },
  {
   "cell_type": "code",
   "execution_count": 13,
   "id": "690288b3",
   "metadata": {},
   "outputs": [],
   "source": [
    "X = df[[\"item_name\", \"quantity\"]]\n",
    "y = df[\"days_last\"]"
   ]
  },
  {
   "cell_type": "code",
   "execution_count": 14,
   "id": "316d9f37",
   "metadata": {},
   "outputs": [],
   "source": [
    "encoder = OneHotEncoder(handle_unknown=\"ignore\")\n",
    "X = encoder.fit_transform(X)"
   ]
  },
  {
   "cell_type": "markdown",
   "id": "e25a1c16",
   "metadata": {},
   "source": [
    "### Training the Model"
   ]
  },
  {
   "cell_type": "code",
   "execution_count": 15,
   "id": "5d18f39c",
   "metadata": {},
   "outputs": [
    {
     "data": {
      "text/html": [
       "<style>#sk-container-id-2 {color: black;}#sk-container-id-2 pre{padding: 0;}#sk-container-id-2 div.sk-toggleable {background-color: white;}#sk-container-id-2 label.sk-toggleable__label {cursor: pointer;display: block;width: 100%;margin-bottom: 0;padding: 0.3em;box-sizing: border-box;text-align: center;}#sk-container-id-2 label.sk-toggleable__label-arrow:before {content: \"▸\";float: left;margin-right: 0.25em;color: #696969;}#sk-container-id-2 label.sk-toggleable__label-arrow:hover:before {color: black;}#sk-container-id-2 div.sk-estimator:hover label.sk-toggleable__label-arrow:before {color: black;}#sk-container-id-2 div.sk-toggleable__content {max-height: 0;max-width: 0;overflow: hidden;text-align: left;background-color: #f0f8ff;}#sk-container-id-2 div.sk-toggleable__content pre {margin: 0.2em;color: black;border-radius: 0.25em;background-color: #f0f8ff;}#sk-container-id-2 input.sk-toggleable__control:checked~div.sk-toggleable__content {max-height: 200px;max-width: 100%;overflow: auto;}#sk-container-id-2 input.sk-toggleable__control:checked~label.sk-toggleable__label-arrow:before {content: \"▾\";}#sk-container-id-2 div.sk-estimator input.sk-toggleable__control:checked~label.sk-toggleable__label {background-color: #d4ebff;}#sk-container-id-2 div.sk-label input.sk-toggleable__control:checked~label.sk-toggleable__label {background-color: #d4ebff;}#sk-container-id-2 input.sk-hidden--visually {border: 0;clip: rect(1px 1px 1px 1px);clip: rect(1px, 1px, 1px, 1px);height: 1px;margin: -1px;overflow: hidden;padding: 0;position: absolute;width: 1px;}#sk-container-id-2 div.sk-estimator {font-family: monospace;background-color: #f0f8ff;border: 1px dotted black;border-radius: 0.25em;box-sizing: border-box;margin-bottom: 0.5em;}#sk-container-id-2 div.sk-estimator:hover {background-color: #d4ebff;}#sk-container-id-2 div.sk-parallel-item::after {content: \"\";width: 100%;border-bottom: 1px solid gray;flex-grow: 1;}#sk-container-id-2 div.sk-label:hover label.sk-toggleable__label {background-color: #d4ebff;}#sk-container-id-2 div.sk-serial::before {content: \"\";position: absolute;border-left: 1px solid gray;box-sizing: border-box;top: 0;bottom: 0;left: 50%;z-index: 0;}#sk-container-id-2 div.sk-serial {display: flex;flex-direction: column;align-items: center;background-color: white;padding-right: 0.2em;padding-left: 0.2em;position: relative;}#sk-container-id-2 div.sk-item {position: relative;z-index: 1;}#sk-container-id-2 div.sk-parallel {display: flex;align-items: stretch;justify-content: center;background-color: white;position: relative;}#sk-container-id-2 div.sk-item::before, #sk-container-id-2 div.sk-parallel-item::before {content: \"\";position: absolute;border-left: 1px solid gray;box-sizing: border-box;top: 0;bottom: 0;left: 50%;z-index: -1;}#sk-container-id-2 div.sk-parallel-item {display: flex;flex-direction: column;z-index: 1;position: relative;background-color: white;}#sk-container-id-2 div.sk-parallel-item:first-child::after {align-self: flex-end;width: 50%;}#sk-container-id-2 div.sk-parallel-item:last-child::after {align-self: flex-start;width: 50%;}#sk-container-id-2 div.sk-parallel-item:only-child::after {width: 0;}#sk-container-id-2 div.sk-dashed-wrapped {border: 1px dashed gray;margin: 0 0.4em 0.5em 0.4em;box-sizing: border-box;padding-bottom: 0.4em;background-color: white;}#sk-container-id-2 div.sk-label label {font-family: monospace;font-weight: bold;display: inline-block;line-height: 1.2em;}#sk-container-id-2 div.sk-label-container {text-align: center;}#sk-container-id-2 div.sk-container {/* jupyter's `normalize.less` sets `[hidden] { display: none; }` but bootstrap.min.css set `[hidden] { display: none !important; }` so we also need the `!important` here to be able to override the default hidden behavior on the sphinx rendered scikit-learn.org. See: https://github.com/scikit-learn/scikit-learn/issues/21755 */display: inline-block !important;position: relative;}#sk-container-id-2 div.sk-text-repr-fallback {display: none;}</style><div id=\"sk-container-id-2\" class=\"sk-top-container\"><div class=\"sk-text-repr-fallback\"><pre>LinearRegression()</pre><b>In a Jupyter environment, please rerun this cell to show the HTML representation or trust the notebook. <br />On GitHub, the HTML representation is unable to render, please try loading this page with nbviewer.org.</b></div><div class=\"sk-container\" hidden><div class=\"sk-item\"><div class=\"sk-estimator sk-toggleable\"><input class=\"sk-toggleable__control sk-hidden--visually\" id=\"sk-estimator-id-2\" type=\"checkbox\" checked><label for=\"sk-estimator-id-2\" class=\"sk-toggleable__label sk-toggleable__label-arrow\">LinearRegression</label><div class=\"sk-toggleable__content\"><pre>LinearRegression()</pre></div></div></div></div></div>"
      ],
      "text/plain": [
       "LinearRegression()"
      ]
     },
     "execution_count": 15,
     "metadata": {},
     "output_type": "execute_result"
    }
   ],
   "source": [
    "model = LinearRegression()\n",
    "model.fit(X, y)"
   ]
  },
  {
   "cell_type": "markdown",
   "id": "0db88835",
   "metadata": {},
   "source": [
    "### Getting input and making predictions"
   ]
  },
  {
   "cell_type": "code",
   "execution_count": 16,
   "id": "d62ec9e2",
   "metadata": {},
   "outputs": [
    {
     "name": "stdout",
     "output_type": "stream",
     "text": [
      "Enter item name: Milk\n",
      "Enter quantity: 300\n",
      "Predicted number of days it will last: 2.3333333333333472\n"
     ]
    }
   ],
   "source": [
    "item_name = input(\"Enter item name: \")\n",
    "quantity = int(input(\"Enter quantity: \"))\n",
    "\n",
    "new_data = pd.DataFrame([[item_name, quantity]], columns=[\"item_name\", \"quantity\"])\n",
    "new_data = encoder.transform(new_data)  # Encode categorical features\n",
    "\n",
    "predicted_days = model.predict(new_data)[0]\n",
    "print(\"Predicted number of days it will last:\", predicted_days)"
   ]
  }
 ],
 "metadata": {
  "kernelspec": {
   "display_name": "Python 3 (ipykernel)",
   "language": "python",
   "name": "python3"
  },
  "language_info": {
   "codemirror_mode": {
    "name": "ipython",
    "version": 3
   },
   "file_extension": ".py",
   "mimetype": "text/x-python",
   "name": "python",
   "nbconvert_exporter": "python",
   "pygments_lexer": "ipython3",
   "version": "3.11.5"
  }
 },
 "nbformat": 4,
 "nbformat_minor": 5
}
